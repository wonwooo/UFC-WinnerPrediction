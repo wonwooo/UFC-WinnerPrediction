{
 "cells": [
  {
   "cell_type": "code",
   "execution_count": 451,
   "metadata": {},
   "outputs": [],
   "source": [
    "import json\n",
    "import copy\n",
    "import re\n",
    "import numpy as np\n",
    "import pandas as pd\n",
    "from sklearn.model_selection import train_test_split\n",
    "import pickle\n",
    "from sklearn.model_selection import train_test_split\n",
    "import random\n",
    "from sklearn.utils import shuffle\n",
    "from sklearn.preprocessing import StandardScaler"
   ]
  },
  {
   "cell_type": "code",
   "execution_count": 452,
   "metadata": {},
   "outputs": [],
   "source": [
    "import torch\n",
    "import torch.nn as nn\n",
    "import torch.nn.functional as F\n",
    "import torch.utils.data\n",
    "from pytorchtools import EarlyStopping"
   ]
  },
  {
   "cell_type": "code",
   "execution_count": 453,
   "metadata": {},
   "outputs": [
    {
     "data": {
      "text/plain": [
       "'1.4.0'"
      ]
     },
     "execution_count": 453,
     "metadata": {},
     "output_type": "execute_result"
    }
   ],
   "source": [
    "torch.__version__"
   ]
  },
  {
   "cell_type": "markdown",
   "metadata": {},
   "source": [
    "## NULL값 처리할것"
   ]
  },
  {
   "cell_type": "markdown",
   "metadata": {},
   "source": [
    "### 변수화 할 정보\n",
    "\n",
    "1. 그동안 얼마나 강한 상대를 이겨왔는가 \n",
    "- 이겨온 상대의 승수의 합 / 패의 합\n",
    "\n",
    "2. 신체조건 : 리치, 키, 오소독스/사우스포, 나이\n",
    "\n",
    "3. 연승여부 \n",
    "\n",
    "4. 체급\n",
    "\n",
    "5. 승리 스타일 (K/O, SUBMISSION, DECISION)\n",
    "\n",
    "6. 상셩에 대한 정보를 넣을 수 있을까 (클린치 싸움 능한지, 그라운드 상대에 능한지, 타격 상대로 능한지)"
   ]
  },
  {
   "cell_type": "code",
   "execution_count": 454,
   "metadata": {},
   "outputs": [],
   "source": [
    "pd.set_option('display.max_columns', None)\n",
    "data = pd.read_csv('data.csv')\n",
    "#data = shuffle(data)\n",
    "data['year'] = pd.DatetimeIndex(data['date']).year\n",
    "data = data[data['year'] > 1999]\n",
    "#pd.set_option('display.max_rows', None) "
   ]
  },
  {
   "cell_type": "code",
   "execution_count": 455,
   "metadata": {},
   "outputs": [],
   "source": [
    "data[\"R_Stance\"].replace({np.nan: \"Switch\", 'Open Stance' : 'Switch', 'Sideways' : 'Switch'}, inplace=True)\n",
    "data[\"B_Stance\"].replace({np.nan: \"Switch\", 'Open Stance' : 'Switch', 'Sideways' : 'Switch'}, inplace=True)"
   ]
  },
  {
   "cell_type": "code",
   "execution_count": 456,
   "metadata": {},
   "outputs": [],
   "source": [
    "grouped_BR = data['R_Reach_cms'].groupby(data['weight_class'])\n",
    "grouped_RR = data['B_Reach_cms'].groupby(data['weight_class'])\n",
    "grouped_BH = data['R_Height_cms'].groupby(data['weight_class'])\n",
    "grouped_RH = data['B_Height_cms'].groupby(data['weight_class'])"
   ]
  },
  {
   "cell_type": "code",
   "execution_count": 457,
   "metadata": {},
   "outputs": [],
   "source": [
    "mean_age = np.mean(data['B_age'] + data['R_age'])/2\n",
    "reach_means = (grouped_BR.mean() + grouped_RR.mean()) / 2\n",
    "height_means = (grouped_BH.mean() + grouped_RH.mean()) / 2\n",
    "for i in range(len(data)):\n",
    "    row = data.iloc[i, :]\n",
    "    if np.isnan(row['R_Reach_cms']):\n",
    "        data.at[i, 'R_Reach_cms'] = reach_means[row['weight_class']]\n",
    "    if np.isnan(row['B_Reach_cms']):\n",
    "        data.at[i, 'B_Reach_cms'] = reach_means[row['weight_class']]\n",
    "    if np.isnan(row['R_Height_cms']):\n",
    "        data.at[i, 'R_Height_cms'] = height_means[row['weight_class']]\n",
    "    if np.isnan(row['B_Height_cms']):\n",
    "         data.at[i, 'B_Height_cms'] = height_means[row['weight_class']]\n",
    "    if np.isnan(row['B_age']):\n",
    "         data.at[i, 'B_age'] = mean_age\n",
    "    if np.isnan(row['R_age']):\n",
    "         data.at[i, 'R_age'] = mean_age"
   ]
  },
  {
   "cell_type": "code",
   "execution_count": 458,
   "metadata": {},
   "outputs": [],
   "source": [
    "data = data.replace(np.nan, 0)"
   ]
  },
  {
   "cell_type": "code",
   "execution_count": 459,
   "metadata": {},
   "outputs": [],
   "source": [
    "#data = data[data['R_Reach_cms'].notna()]\n",
    "#data = data[data['B_Reach_cms'].notna()]"
   ]
  },
  {
   "cell_type": "code",
   "execution_count": 460,
   "metadata": {},
   "outputs": [
    {
     "name": "stdout",
     "output_type": "stream",
     "text": [
      "(4936, 89)\n"
     ]
    }
   ],
   "source": [
    "colsToDrop = 'date year weight_class R_Weight_lbs B_Weight_lbs B_total_time_fought(seconds) R_total_time_fought(seconds) Referee\tdate\tlocation R_avg_opp_BODY_att\tR_avg_opp_BODY_landed\tR_avg_opp_CLINCH_att\tR_avg_opp_CLINCH_landed\tR_avg_opp_DISTANCE_att\tR_avg_opp_DISTANCE_landed\tR_avg_opp_GROUND_att\tR_avg_opp_GROUND_landed\tR_avg_opp_HEAD_att\tR_avg_opp_HEAD_landed\tR_avg_opp_KD\tR_avg_opp_LEG_att\tR_avg_opp_LEG_landed\tR_avg_opp_PASS\tR_avg_opp_REV\tR_avg_opp_SIG_STR_att\tR_avg_opp_SIG_STR_landed\tR_avg_opp_SIG_STR_pct\tR_avg_opp_SUB_ATT\tR_avg_opp_TD_att\tR_avg_opp_TD_landed\tR_avg_opp_TD_pct\tR_avg_opp_TOTAL_STR_att\tR_avg_opp_TOTAL_STR_landed B_avg_opp_BODY_att\tB_avg_opp_BODY_landed\tB_avg_opp_CLINCH_att\tB_avg_opp_CLINCH_landed\tB_avg_opp_DISTANCE_att\tB_avg_opp_DISTANCE_landed\tB_avg_opp_GROUND_att\tB_avg_opp_GROUND_landed\tB_avg_opp_HEAD_att\tB_avg_opp_HEAD_landed\tB_avg_opp_KD\tB_avg_opp_LEG_att\tB_avg_opp_LEG_landed\tB_avg_opp_PASS\tB_avg_opp_REV\tB_avg_opp_SIG_STR_att\tB_avg_opp_SIG_STR_landed\tB_avg_opp_SIG_STR_pct\tB_avg_opp_SUB_ATT\tB_avg_opp_TD_att\tB_avg_opp_TD_landed\tB_avg_opp_TD_pct\tB_avg_opp_TOTAL_STR_att\tB_avg_opp_TOTAL_STR_landed'.split()\n",
    "data = data.drop(colsToDrop, axis=1)\n",
    "print(data.shape)"
   ]
  },
  {
   "cell_type": "code",
   "execution_count": 461,
   "metadata": {},
   "outputs": [],
   "source": [
    "featureToDrop = 'R_current_lose_streak\tB_current_lose_streak\tB_draw B_avg_GROUND_att\tB_avg_GROUND_landed B_avg_REV B_avg_TD_pct B_total_title_bouts B_win_by_TKO_Doctor_Stoppage R_draw R_avg_GROUND_att\tR_avg_GROUND_landed R_avg_REV R_avg_TD_pct R_total_title_bouts R_win_by_TKO_Doctor_Stoppage'.split()\n",
    "data = data.drop(featureToDrop, axis=1)"
   ]
  },
  {
   "cell_type": "markdown",
   "metadata": {},
   "source": [
    "1. categorical value title_bout, B_stances, R_stance drop\n",
    "\n",
    "2. numeric 값은 (batch_size, dim)으로 / categorical value는 각각 embedding하여 (batch_size, e_title_bout + e_B_Stance + e_R_stance)\n",
    "\n",
    "3. numeric + categorical concatenated X : (batch_size, total_dim)\n",
    "\n",
    "4. input X to FC layer\n"
   ]
  },
  {
   "cell_type": "markdown",
   "metadata": {},
   "source": [
    "### Features to merge\n",
    "B_win_by_Decision_Majority\tB_win_by_Decision_Split\tB_win_by_Decision_Unanimous -> B_win_by_Decision"
   ]
  },
  {
   "cell_type": "code",
   "execution_count": 462,
   "metadata": {},
   "outputs": [],
   "source": [
    "data['B_win_by_Decision'] = np.sum(np.array(data[['B_win_by_Decision_Majority','B_win_by_Decision_Split','B_win_by_Decision_Unanimous']]), axis=1)\n",
    "data['R_win_by_Decision'] = np.sum(np.array(data[['R_win_by_Decision_Majority','R_win_by_Decision_Split','R_win_by_Decision_Unanimous']]), axis=1)\n",
    "data = data.drop(['B_win_by_Decision_Majority','B_win_by_Decision_Split','B_win_by_Decision_Unanimous', 'R_win_by_Decision_Majority','R_win_by_Decision_Split','R_win_by_Decision_Unanimous'], axis=1)"
   ]
  },
  {
   "cell_type": "code",
   "execution_count": 463,
   "metadata": {},
   "outputs": [],
   "source": [
    "data = data[(data['no_of_rounds']!=2) & (data['no_of_rounds']!=4)]"
   ]
  },
  {
   "cell_type": "code",
   "execution_count": 464,
   "metadata": {},
   "outputs": [],
   "source": [
    "data['is_RED'] = [1] * len(data)"
   ]
  },
  {
   "cell_type": "code",
   "execution_count": 465,
   "metadata": {},
   "outputs": [
    {
     "data": {
      "text/plain": [
       "0       1\n",
       "1       1\n",
       "2       1\n",
       "3       1\n",
       "4       1\n",
       "5       1\n",
       "6       1\n",
       "7       1\n",
       "8       1\n",
       "9       1\n",
       "10      1\n",
       "11      1\n",
       "12      1\n",
       "13      1\n",
       "14      1\n",
       "15      1\n",
       "16      1\n",
       "17      1\n",
       "18      1\n",
       "19      1\n",
       "20      1\n",
       "21      1\n",
       "22      1\n",
       "23      1\n",
       "24      1\n",
       "25      1\n",
       "26      1\n",
       "27      1\n",
       "28      1\n",
       "29      1\n",
       "       ..\n",
       "4900    1\n",
       "4901    1\n",
       "4902    1\n",
       "4903    1\n",
       "4904    1\n",
       "4905    1\n",
       "4906    1\n",
       "4909    1\n",
       "4910    1\n",
       "4911    1\n",
       "4912    1\n",
       "4913    1\n",
       "4914    1\n",
       "4917    1\n",
       "4918    1\n",
       "4919    1\n",
       "4920    1\n",
       "4921    1\n",
       "4922    1\n",
       "4923    1\n",
       "4924    1\n",
       "4925    1\n",
       "4926    1\n",
       "4927    1\n",
       "4928    1\n",
       "4929    1\n",
       "4930    1\n",
       "4931    1\n",
       "4932    1\n",
       "4933    1\n",
       "Name: is_RED, Length: 4905, dtype: int64"
      ]
     },
     "execution_count": 465,
     "metadata": {},
     "output_type": "execute_result"
    }
   ],
   "source": [
    "data['is_RED']"
   ]
  },
  {
   "cell_type": "code",
   "execution_count": 466,
   "metadata": {},
   "outputs": [],
   "source": [
    "categorical_vars = ['title_bout', 'B_Stance', 'R_Stance', 'no_of_rounds', 'Winner']\n",
    "title_bout = pd.get_dummies(data['title_bout'])\n",
    "B_stance = pd.get_dummies(data['B_Stance'])\n",
    "R_stance = pd.get_dummies(data['R_Stance'])\n",
    "no_of_rounds = pd.get_dummies(data['no_of_rounds'])\n",
    "winner = data['Winner'] == 'Red'\n",
    "label = winner + 0\n",
    "data = data.drop(categorical_vars, axis=1)"
   ]
  },
  {
   "cell_type": "code",
   "execution_count": 467,
   "metadata": {},
   "outputs": [],
   "source": [
    "data_numeric = data.drop(['R_fighter', 'B_fighter'], axis=1)"
   ]
  },
  {
   "cell_type": "code",
   "execution_count": 468,
   "metadata": {},
   "outputs": [],
   "source": [
    "remove_infight = 'B_avg_CLINCH_att\tB_avg_CLINCH_landed\tB_avg_DISTANCE_att\tB_avg_DISTANCE_landed B_avg_PASS B_avg_SIG_STR_att B_avg_SUB_ATT B_avg_TD_att       R_avg_CLINCH_att\tR_avg_CLINCH_landed\tR_avg_DISTANCE_att\tR_avg_DISTANCE_landed R_avg_PASS R_avg_SIG_STR_att R_avg_SUB_ATT R_avg_TD_att'.split()\n",
    "data_numeric = data_numeric.drop(remove_infight, axis=1) "
   ]
  },
  {
   "cell_type": "code",
   "execution_count": 469,
   "metadata": {},
   "outputs": [
    {
     "data": {
      "text/html": [
       "<div>\n",
       "<style scoped>\n",
       "    .dataframe tbody tr th:only-of-type {\n",
       "        vertical-align: middle;\n",
       "    }\n",
       "\n",
       "    .dataframe tbody tr th {\n",
       "        vertical-align: top;\n",
       "    }\n",
       "\n",
       "    .dataframe thead th {\n",
       "        text-align: right;\n",
       "    }\n",
       "</style>\n",
       "<table border=\"1\" class=\"dataframe\">\n",
       "  <thead>\n",
       "    <tr style=\"text-align: right;\">\n",
       "      <th></th>\n",
       "      <th>B_current_win_streak</th>\n",
       "      <th>B_avg_BODY_att</th>\n",
       "      <th>B_avg_BODY_landed</th>\n",
       "      <th>B_avg_HEAD_att</th>\n",
       "      <th>B_avg_HEAD_landed</th>\n",
       "      <th>B_avg_KD</th>\n",
       "      <th>B_avg_LEG_att</th>\n",
       "      <th>B_avg_LEG_landed</th>\n",
       "      <th>B_avg_SIG_STR_landed</th>\n",
       "      <th>B_avg_SIG_STR_pct</th>\n",
       "      <th>B_avg_TD_landed</th>\n",
       "      <th>B_avg_TOTAL_STR_att</th>\n",
       "      <th>B_avg_TOTAL_STR_landed</th>\n",
       "      <th>B_longest_win_streak</th>\n",
       "      <th>B_losses</th>\n",
       "      <th>B_total_rounds_fought</th>\n",
       "      <th>B_win_by_KO/TKO</th>\n",
       "      <th>B_win_by_Submission</th>\n",
       "      <th>B_wins</th>\n",
       "      <th>B_Height_cms</th>\n",
       "      <th>B_Reach_cms</th>\n",
       "      <th>R_current_win_streak</th>\n",
       "      <th>R_avg_BODY_att</th>\n",
       "      <th>R_avg_BODY_landed</th>\n",
       "      <th>R_avg_HEAD_att</th>\n",
       "      <th>R_avg_HEAD_landed</th>\n",
       "      <th>R_avg_KD</th>\n",
       "      <th>R_avg_LEG_att</th>\n",
       "      <th>R_avg_LEG_landed</th>\n",
       "      <th>R_avg_SIG_STR_landed</th>\n",
       "      <th>R_avg_SIG_STR_pct</th>\n",
       "      <th>R_avg_TD_landed</th>\n",
       "      <th>R_avg_TOTAL_STR_att</th>\n",
       "      <th>R_avg_TOTAL_STR_landed</th>\n",
       "      <th>R_longest_win_streak</th>\n",
       "      <th>R_losses</th>\n",
       "      <th>R_total_rounds_fought</th>\n",
       "      <th>R_win_by_KO/TKO</th>\n",
       "      <th>R_win_by_Submission</th>\n",
       "      <th>R_wins</th>\n",
       "      <th>R_Height_cms</th>\n",
       "      <th>R_Reach_cms</th>\n",
       "      <th>B_age</th>\n",
       "      <th>R_age</th>\n",
       "      <th>B_win_by_Decision</th>\n",
       "      <th>R_win_by_Decision</th>\n",
       "      <th>is_RED</th>\n",
       "    </tr>\n",
       "  </thead>\n",
       "  <tbody>\n",
       "    <tr>\n",
       "      <th>0</th>\n",
       "      <td>4.0</td>\n",
       "      <td>9.200000</td>\n",
       "      <td>6.000000</td>\n",
       "      <td>48.600000</td>\n",
       "      <td>11.200000</td>\n",
       "      <td>0.800000</td>\n",
       "      <td>7.6</td>\n",
       "      <td>5.400000</td>\n",
       "      <td>22.600000</td>\n",
       "      <td>0.466000</td>\n",
       "      <td>0.200000</td>\n",
       "      <td>66.400000</td>\n",
       "      <td>23.600000</td>\n",
       "      <td>4.0</td>\n",
       "      <td>1.0</td>\n",
       "      <td>9.0</td>\n",
       "      <td>2.0</td>\n",
       "      <td>1.0</td>\n",
       "      <td>4.0</td>\n",
       "      <td>167.64</td>\n",
       "      <td>170.18</td>\n",
       "      <td>4.0</td>\n",
       "      <td>21.900000</td>\n",
       "      <td>16.400000</td>\n",
       "      <td>74.200000</td>\n",
       "      <td>23.90</td>\n",
       "      <td>0.400</td>\n",
       "      <td>5.300000</td>\n",
       "      <td>3.700000</td>\n",
       "      <td>44.000000</td>\n",
       "      <td>0.466000</td>\n",
       "      <td>1.900000</td>\n",
       "      <td>129.900000</td>\n",
       "      <td>69.100000</td>\n",
       "      <td>4.0</td>\n",
       "      <td>2.0</td>\n",
       "      <td>27.0</td>\n",
       "      <td>2.0</td>\n",
       "      <td>0.0</td>\n",
       "      <td>8.0</td>\n",
       "      <td>162.56</td>\n",
       "      <td>162.56</td>\n",
       "      <td>31.0</td>\n",
       "      <td>32.0</td>\n",
       "      <td>1.0</td>\n",
       "      <td>6.0</td>\n",
       "      <td>1</td>\n",
       "    </tr>\n",
       "    <tr>\n",
       "      <th>1</th>\n",
       "      <td>3.0</td>\n",
       "      <td>14.600000</td>\n",
       "      <td>9.100000</td>\n",
       "      <td>112.000000</td>\n",
       "      <td>32.000000</td>\n",
       "      <td>0.000000</td>\n",
       "      <td>12.3</td>\n",
       "      <td>10.200000</td>\n",
       "      <td>51.300000</td>\n",
       "      <td>0.399000</td>\n",
       "      <td>0.500000</td>\n",
       "      <td>158.700000</td>\n",
       "      <td>69.600000</td>\n",
       "      <td>3.0</td>\n",
       "      <td>6.0</td>\n",
       "      <td>29.0</td>\n",
       "      <td>0.0</td>\n",
       "      <td>0.0</td>\n",
       "      <td>4.0</td>\n",
       "      <td>167.64</td>\n",
       "      <td>167.64</td>\n",
       "      <td>2.0</td>\n",
       "      <td>12.000000</td>\n",
       "      <td>7.714286</td>\n",
       "      <td>84.571429</td>\n",
       "      <td>37.00</td>\n",
       "      <td>0.000</td>\n",
       "      <td>19.285714</td>\n",
       "      <td>14.714286</td>\n",
       "      <td>59.428571</td>\n",
       "      <td>0.575714</td>\n",
       "      <td>2.428571</td>\n",
       "      <td>161.571429</td>\n",
       "      <td>102.857143</td>\n",
       "      <td>2.0</td>\n",
       "      <td>2.0</td>\n",
       "      <td>25.0</td>\n",
       "      <td>0.0</td>\n",
       "      <td>2.0</td>\n",
       "      <td>5.0</td>\n",
       "      <td>165.10</td>\n",
       "      <td>167.64</td>\n",
       "      <td>32.0</td>\n",
       "      <td>31.0</td>\n",
       "      <td>3.0</td>\n",
       "      <td>3.0</td>\n",
       "      <td>1</td>\n",
       "    </tr>\n",
       "    <tr>\n",
       "      <th>2</th>\n",
       "      <td>3.0</td>\n",
       "      <td>15.354839</td>\n",
       "      <td>11.322581</td>\n",
       "      <td>67.645161</td>\n",
       "      <td>23.258065</td>\n",
       "      <td>0.645161</td>\n",
       "      <td>14.0</td>\n",
       "      <td>12.193548</td>\n",
       "      <td>46.774194</td>\n",
       "      <td>0.496129</td>\n",
       "      <td>0.677419</td>\n",
       "      <td>103.709677</td>\n",
       "      <td>52.548387</td>\n",
       "      <td>8.0</td>\n",
       "      <td>8.0</td>\n",
       "      <td>68.0</td>\n",
       "      <td>10.0</td>\n",
       "      <td>6.0</td>\n",
       "      <td>23.0</td>\n",
       "      <td>185.42</td>\n",
       "      <td>185.42</td>\n",
       "      <td>11.0</td>\n",
       "      <td>13.866667</td>\n",
       "      <td>8.666667</td>\n",
       "      <td>96.733333</td>\n",
       "      <td>35.60</td>\n",
       "      <td>0.200</td>\n",
       "      <td>13.733333</td>\n",
       "      <td>11.200000</td>\n",
       "      <td>55.466667</td>\n",
       "      <td>0.430000</td>\n",
       "      <td>0.400000</td>\n",
       "      <td>133.000000</td>\n",
       "      <td>63.400000</td>\n",
       "      <td>11.0</td>\n",
       "      <td>1.0</td>\n",
       "      <td>33.0</td>\n",
       "      <td>3.0</td>\n",
       "      <td>6.0</td>\n",
       "      <td>14.0</td>\n",
       "      <td>180.34</td>\n",
       "      <td>193.04</td>\n",
       "      <td>36.0</td>\n",
       "      <td>35.0</td>\n",
       "      <td>7.0</td>\n",
       "      <td>4.0</td>\n",
       "      <td>1</td>\n",
       "    </tr>\n",
       "    <tr>\n",
       "      <th>3</th>\n",
       "      <td>4.0</td>\n",
       "      <td>17.000000</td>\n",
       "      <td>14.000000</td>\n",
       "      <td>116.250000</td>\n",
       "      <td>53.750000</td>\n",
       "      <td>0.500000</td>\n",
       "      <td>3.0</td>\n",
       "      <td>2.500000</td>\n",
       "      <td>70.250000</td>\n",
       "      <td>0.550000</td>\n",
       "      <td>1.250000</td>\n",
       "      <td>154.750000</td>\n",
       "      <td>86.750000</td>\n",
       "      <td>4.0</td>\n",
       "      <td>0.0</td>\n",
       "      <td>9.0</td>\n",
       "      <td>2.0</td>\n",
       "      <td>0.0</td>\n",
       "      <td>4.0</td>\n",
       "      <td>170.18</td>\n",
       "      <td>170.18</td>\n",
       "      <td>0.0</td>\n",
       "      <td>18.250000</td>\n",
       "      <td>10.250000</td>\n",
       "      <td>80.500000</td>\n",
       "      <td>24.00</td>\n",
       "      <td>0.375</td>\n",
       "      <td>13.000000</td>\n",
       "      <td>11.500000</td>\n",
       "      <td>45.750000</td>\n",
       "      <td>0.366250</td>\n",
       "      <td>0.625000</td>\n",
       "      <td>117.375000</td>\n",
       "      <td>50.750000</td>\n",
       "      <td>5.0</td>\n",
       "      <td>2.0</td>\n",
       "      <td>20.0</td>\n",
       "      <td>1.0</td>\n",
       "      <td>0.0</td>\n",
       "      <td>6.0</td>\n",
       "      <td>162.56</td>\n",
       "      <td>172.72</td>\n",
       "      <td>26.0</td>\n",
       "      <td>29.0</td>\n",
       "      <td>2.0</td>\n",
       "      <td>5.0</td>\n",
       "      <td>1</td>\n",
       "    </tr>\n",
       "    <tr>\n",
       "      <th>4</th>\n",
       "      <td>1.0</td>\n",
       "      <td>17.000000</td>\n",
       "      <td>14.500000</td>\n",
       "      <td>184.500000</td>\n",
       "      <td>45.000000</td>\n",
       "      <td>0.000000</td>\n",
       "      <td>2.0</td>\n",
       "      <td>2.000000</td>\n",
       "      <td>61.500000</td>\n",
       "      <td>0.310000</td>\n",
       "      <td>0.000000</td>\n",
       "      <td>204.000000</td>\n",
       "      <td>62.000000</td>\n",
       "      <td>1.0</td>\n",
       "      <td>1.0</td>\n",
       "      <td>8.0</td>\n",
       "      <td>0.0</td>\n",
       "      <td>0.0</td>\n",
       "      <td>1.0</td>\n",
       "      <td>180.34</td>\n",
       "      <td>185.42</td>\n",
       "      <td>0.0</td>\n",
       "      <td>7.750000</td>\n",
       "      <td>6.750000</td>\n",
       "      <td>50.750000</td>\n",
       "      <td>22.75</td>\n",
       "      <td>0.500</td>\n",
       "      <td>3.750000</td>\n",
       "      <td>3.000000</td>\n",
       "      <td>32.500000</td>\n",
       "      <td>0.545000</td>\n",
       "      <td>0.000000</td>\n",
       "      <td>63.500000</td>\n",
       "      <td>32.750000</td>\n",
       "      <td>3.0</td>\n",
       "      <td>1.0</td>\n",
       "      <td>7.0</td>\n",
       "      <td>2.0</td>\n",
       "      <td>0.0</td>\n",
       "      <td>3.0</td>\n",
       "      <td>187.96</td>\n",
       "      <td>190.50</td>\n",
       "      <td>32.0</td>\n",
       "      <td>26.0</td>\n",
       "      <td>1.0</td>\n",
       "      <td>1.0</td>\n",
       "      <td>1</td>\n",
       "    </tr>\n",
       "  </tbody>\n",
       "</table>\n",
       "</div>"
      ],
      "text/plain": [
       "   B_current_win_streak  B_avg_BODY_att  B_avg_BODY_landed  B_avg_HEAD_att  \\\n",
       "0                   4.0        9.200000           6.000000       48.600000   \n",
       "1                   3.0       14.600000           9.100000      112.000000   \n",
       "2                   3.0       15.354839          11.322581       67.645161   \n",
       "3                   4.0       17.000000          14.000000      116.250000   \n",
       "4                   1.0       17.000000          14.500000      184.500000   \n",
       "\n",
       "   B_avg_HEAD_landed  B_avg_KD  B_avg_LEG_att  B_avg_LEG_landed  \\\n",
       "0          11.200000  0.800000            7.6          5.400000   \n",
       "1          32.000000  0.000000           12.3         10.200000   \n",
       "2          23.258065  0.645161           14.0         12.193548   \n",
       "3          53.750000  0.500000            3.0          2.500000   \n",
       "4          45.000000  0.000000            2.0          2.000000   \n",
       "\n",
       "   B_avg_SIG_STR_landed  B_avg_SIG_STR_pct  B_avg_TD_landed  \\\n",
       "0             22.600000           0.466000         0.200000   \n",
       "1             51.300000           0.399000         0.500000   \n",
       "2             46.774194           0.496129         0.677419   \n",
       "3             70.250000           0.550000         1.250000   \n",
       "4             61.500000           0.310000         0.000000   \n",
       "\n",
       "   B_avg_TOTAL_STR_att  B_avg_TOTAL_STR_landed  B_longest_win_streak  \\\n",
       "0            66.400000               23.600000                   4.0   \n",
       "1           158.700000               69.600000                   3.0   \n",
       "2           103.709677               52.548387                   8.0   \n",
       "3           154.750000               86.750000                   4.0   \n",
       "4           204.000000               62.000000                   1.0   \n",
       "\n",
       "   B_losses  B_total_rounds_fought  B_win_by_KO/TKO  B_win_by_Submission  \\\n",
       "0       1.0                    9.0              2.0                  1.0   \n",
       "1       6.0                   29.0              0.0                  0.0   \n",
       "2       8.0                   68.0             10.0                  6.0   \n",
       "3       0.0                    9.0              2.0                  0.0   \n",
       "4       1.0                    8.0              0.0                  0.0   \n",
       "\n",
       "   B_wins  B_Height_cms  B_Reach_cms  R_current_win_streak  R_avg_BODY_att  \\\n",
       "0     4.0        167.64       170.18                   4.0       21.900000   \n",
       "1     4.0        167.64       167.64                   2.0       12.000000   \n",
       "2    23.0        185.42       185.42                  11.0       13.866667   \n",
       "3     4.0        170.18       170.18                   0.0       18.250000   \n",
       "4     1.0        180.34       185.42                   0.0        7.750000   \n",
       "\n",
       "   R_avg_BODY_landed  R_avg_HEAD_att  R_avg_HEAD_landed  R_avg_KD  \\\n",
       "0          16.400000       74.200000              23.90     0.400   \n",
       "1           7.714286       84.571429              37.00     0.000   \n",
       "2           8.666667       96.733333              35.60     0.200   \n",
       "3          10.250000       80.500000              24.00     0.375   \n",
       "4           6.750000       50.750000              22.75     0.500   \n",
       "\n",
       "   R_avg_LEG_att  R_avg_LEG_landed  R_avg_SIG_STR_landed  R_avg_SIG_STR_pct  \\\n",
       "0       5.300000          3.700000             44.000000           0.466000   \n",
       "1      19.285714         14.714286             59.428571           0.575714   \n",
       "2      13.733333         11.200000             55.466667           0.430000   \n",
       "3      13.000000         11.500000             45.750000           0.366250   \n",
       "4       3.750000          3.000000             32.500000           0.545000   \n",
       "\n",
       "   R_avg_TD_landed  R_avg_TOTAL_STR_att  R_avg_TOTAL_STR_landed  \\\n",
       "0         1.900000           129.900000               69.100000   \n",
       "1         2.428571           161.571429              102.857143   \n",
       "2         0.400000           133.000000               63.400000   \n",
       "3         0.625000           117.375000               50.750000   \n",
       "4         0.000000            63.500000               32.750000   \n",
       "\n",
       "   R_longest_win_streak  R_losses  R_total_rounds_fought  R_win_by_KO/TKO  \\\n",
       "0                   4.0       2.0                   27.0              2.0   \n",
       "1                   2.0       2.0                   25.0              0.0   \n",
       "2                  11.0       1.0                   33.0              3.0   \n",
       "3                   5.0       2.0                   20.0              1.0   \n",
       "4                   3.0       1.0                    7.0              2.0   \n",
       "\n",
       "   R_win_by_Submission  R_wins  R_Height_cms  R_Reach_cms  B_age  R_age  \\\n",
       "0                  0.0     8.0        162.56       162.56   31.0   32.0   \n",
       "1                  2.0     5.0        165.10       167.64   32.0   31.0   \n",
       "2                  6.0    14.0        180.34       193.04   36.0   35.0   \n",
       "3                  0.0     6.0        162.56       172.72   26.0   29.0   \n",
       "4                  0.0     3.0        187.96       190.50   32.0   26.0   \n",
       "\n",
       "   B_win_by_Decision  R_win_by_Decision  is_RED  \n",
       "0                1.0                6.0       1  \n",
       "1                3.0                3.0       1  \n",
       "2                7.0                4.0       1  \n",
       "3                2.0                5.0       1  \n",
       "4                1.0                1.0       1  "
      ]
     },
     "execution_count": 469,
     "metadata": {},
     "output_type": "execute_result"
    }
   ],
   "source": [
    "data_numeric.head()"
   ]
  },
  {
   "cell_type": "markdown",
   "metadata": {},
   "source": [
    "\n",
    "\n",
    "\n",
    "2. B_avg_BODY_att\tB_avg_BODY_landed - B_avg_BODY_ratio\n",
    "3. B_avg_CLINCH_att\tB_avg_CLINCH_landed - B_avg_CLINCH_ratio\n",
    "3. B_avg_DISTANCE_att\tB_avg_DISTANCE_landed - B_avg_DISTANCE_ratio\n",
    "4. B_avg_GROUND_att\tB_avg_GROUND_landed - B_avg_GROUND_ratio\n",
    "5. B_avg_HEAD_att\tB_avg_HEAD_landed\n",
    "6. B_avg_LEG_att\tB_avg_LEG_landed\n",
    "B_avg_TD_att\tB_avg_TD_landed"
   ]
  },
  {
   "cell_type": "code",
   "execution_count": 470,
   "metadata": {},
   "outputs": [
    {
     "name": "stderr",
     "output_type": "stream",
     "text": [
      "C:\\Anaconda3\\lib\\site-packages\\sklearn\\preprocessing\\data.py:625: DataConversionWarning: Data with input dtype int64, float64 were all converted to float64 by StandardScaler.\n",
      "  return self.partial_fit(X, y)\n",
      "C:\\Anaconda3\\lib\\site-packages\\sklearn\\base.py:462: DataConversionWarning: Data with input dtype int64, float64 were all converted to float64 by StandardScaler.\n",
      "  return self.fit(X, **fit_params).transform(X)\n"
     ]
    }
   ],
   "source": [
    "data_numeric = StandardScaler().fit_transform(data_numeric)"
   ]
  },
  {
   "cell_type": "code",
   "execution_count": 471,
   "metadata": {},
   "outputs": [
    {
     "data": {
      "text/plain": [
       "(4905, 47)"
      ]
     },
     "execution_count": 471,
     "metadata": {},
     "output_type": "execute_result"
    }
   ],
   "source": [
    "data_numeric.shape"
   ]
  },
  {
   "cell_type": "markdown",
   "metadata": {},
   "source": [
    "### Split Train, Test with 9 : 1"
   ]
  },
  {
   "cell_type": "code",
   "execution_count": 472,
   "metadata": {},
   "outputs": [],
   "source": [
    "numeric_train, numeric_test = train_test_split(data_numeric, test_size = 0.1, random_state=2)\n",
    "title_train, title_test = train_test_split(title_bout, test_size = 0.1, random_state=2)\n",
    "R_stance_train, R_stance_test,  = train_test_split(R_stance, test_size = 0.1, random_state=2)\n",
    "B_stance_train, B_stance_test = train_test_split(B_stance, test_size = 0.1, random_state=2)\n",
    "no_of_rounds_train, no_of_rounds_test = train_test_split(no_of_rounds, test_size = 0.1, random_state =2)\n",
    "label_train, label_test = train_test_split(label, test_size = 0.1, random_state = 2)"
   ]
  },
  {
   "cell_type": "markdown",
   "metadata": {},
   "source": [
    "### Split Train, Val with 9:1"
   ]
  },
  {
   "cell_type": "code",
   "execution_count": 473,
   "metadata": {},
   "outputs": [],
   "source": [
    "numeric_training, numeric_val = train_test_split(numeric_train, test_size = 0.1, random_state=2)\n",
    "title_training, title_val = train_test_split(title_train, test_size = 0.1, random_state=2)\n",
    "R_stance_training, R_stance_val  = train_test_split(R_stance_train, test_size = 0.1, random_state=2)\n",
    "B_stance_training, B_stance_val = train_test_split(B_stance_train, test_size = 0.1, random_state=2)\n",
    "no_of_rounds_training, no_of_rounds_val = train_test_split(no_of_rounds_train, test_size = 0.1, random_state =2)\n",
    "label_training, label_val = train_test_split(label_train, test_size = 0.1, random_state = 2)"
   ]
  },
  {
   "cell_type": "code",
   "execution_count": 474,
   "metadata": {},
   "outputs": [
    {
     "name": "stdout",
     "output_type": "stream",
     "text": [
      "batch size : 8, num of batch_train : 497, num of batch_validation : 56\n"
     ]
    }
   ],
   "source": [
    "numeric_training = torch.FloatTensor(np.array(numeric_training))\n",
    "title_training = torch.FloatTensor(np.array(title_training))\n",
    "R_stance_training = torch.FloatTensor(np.array(R_stance_training))\n",
    "B_stance_training = torch.FloatTensor(np.array(B_stance_training))\n",
    "no_of_rounds_training = torch.FloatTensor(np.array(no_of_rounds_training))\n",
    "label_training = torch.LongTensor(np.array(label_training))\n",
    "numeric_loader = torch.utils.data.DataLoader(numeric_training, batch_size=8)\n",
    "title_loader = torch.utils.data.DataLoader(title_training, batch_size=8)\n",
    "R_stance_loader = torch.utils.data.DataLoader(R_stance_training, batch_size=8)\n",
    "B_stance_loader = torch.utils.data.DataLoader(B_stance_training, batch_size=8)\n",
    "no_of_rounds_loader = torch.utils.data.DataLoader(no_of_rounds_training, batch_size=8)\n",
    "label_loader = torch.utils.data.DataLoader(label_training, batch_size=8)\n",
    "\n",
    "numeric_val = torch.FloatTensor(np.array(numeric_val))\n",
    "title_val = torch.FloatTensor(np.array(title_val))\n",
    "R_stance_val = torch.FloatTensor(np.array(R_stance_val))\n",
    "B_stance_val = torch.FloatTensor(np.array(B_stance_val))\n",
    "no_of_rounds_val = torch.FloatTensor(np.array(no_of_rounds_val))\n",
    "label_val = torch.LongTensor(np.array(label_val))\n",
    "numeric_vloader = torch.utils.data.DataLoader(numeric_val, batch_size=8)\n",
    "title_vloader = torch.utils.data.DataLoader(title_val, batch_size=8)\n",
    "R_stance_vloader = torch.utils.data.DataLoader(R_stance_val, batch_size=8)\n",
    "B_stance_vloader = torch.utils.data.DataLoader(B_stance_val, batch_size=8)\n",
    "no_of_rounds_vloader = torch.utils.data.DataLoader(no_of_rounds_val, batch_size=8)\n",
    "label_vloader = torch.utils.data.DataLoader(label_val, batch_size=8)\n",
    "\n",
    "\n",
    "print('batch size : 8, num of batch_train : {}, num of batch_validation : {}'.format(len(label_loader), len(label_vloader)))"
   ]
  },
  {
   "cell_type": "markdown",
   "metadata": {},
   "source": [
    "### Model class"
   ]
  },
  {
   "cell_type": "code",
   "execution_count": 475,
   "metadata": {},
   "outputs": [],
   "source": [
    "#categorical value 는 onehot 형태로 concateneate 되어서 input\n",
    "class UFCmodel(nn.Module):\n",
    "    def __init__(self):\n",
    "        super(UFCmodel, self).__init__()\n",
    "        self.R_stance_layer = nn.Linear(3, 2, bias=False)\n",
    "        self.B_stance_layer = nn.Linear(3, 2, bias=False)\n",
    "        self.no_of_rounds_layer = nn.Linear(2, 2, bias=False)\n",
    "        self.title_bout_layer = nn.Linear(2, 2, bias=False)\n",
    "        self.fc1 = nn.Linear(53, 100)\n",
    "        self.fc2 = nn.Linear(100, 30)\n",
    "        self.fc3 = nn.Linear(30, 2)\n",
    "        self.dropout = nn.Dropout(p=0.1)\n",
    "        self.batchnorm1 = nn.BatchNorm1d(100)\n",
    "        self.batchnorm2 = nn.BatchNorm1d(30)\n",
    "    def forward(self, numeric, r_stance, b_stance, no_of_rounds, title_bout):\n",
    "        '''\n",
    "        input\n",
    "        x : numeric variables (batch size x dim)\n",
    "        e : categorical one_hot vectors\n",
    "        concateneate (x+e) and input to FC Layer\n",
    "        '''\n",
    "        r_stance = self.R_stance_layer(r_stance)\n",
    "        b_stance = self.B_stance_layer(b_stance)\n",
    "        no_of_rounds = self.no_of_rounds_layer(no_of_rounds)\n",
    "        title_bout = self.title_bout_layer(title_bout)\n",
    "        \n",
    "        x = torch.cat((numeric, r_stance, b_stance, no_of_rounds, title_bout), 1)\n",
    "        x = F.relu(self.fc1(x))\n",
    "        x = self.dropout(x)\n",
    "        x = self.batchnorm1(x)\n",
    "        x = F.relu(self.fc2(x))\n",
    "        x = self.batchnorm2(x)\n",
    "        x = self.dropout(x)\n",
    "\n",
    "        return self.fc3(x)\n",
    "    \n",
    "    def predict(self, numeric, r_stance, b_stance, no_of_rounds, title_bout):\n",
    "        #Apply softmax to output. \n",
    "        res = self.forward(numeric, r_stance, b_stance, no_of_rounds, title_bout)\n",
    "        '''\n",
    "        r_stance = self.R_stance_layer(r_stance)\n",
    "        b_stance = self.B_stance_layer(b_stance)\n",
    "        no_of_rounds = self.no_of_rounds_layer(no_of_rounds)\n",
    "        title_bout = self.title_bout_layer(title_bout)\n",
    "        \n",
    "        x = torch.cat((numeric, r_stance, b_stance, no_of_rounds, title_bout), 1)\n",
    "        '''\n",
    "        pred = F.softmax(res)\n",
    "        \n",
    "        ans = []\n",
    "        #Pick the class with maximum weight\n",
    "        for t in pred:\n",
    "            if t[0]>t[1]:\n",
    "                ans.append(0)\n",
    "            else:\n",
    "                ans.append(1)\n",
    "        return torch.tensor(ans)"
   ]
  },
  {
   "cell_type": "markdown",
   "metadata": {},
   "source": [
    "### Training, valiation"
   ]
  },
  {
   "cell_type": "code",
   "execution_count": 476,
   "metadata": {},
   "outputs": [],
   "source": [
    "epochs = 10\n",
    "model = UFCmodel()\n",
    "model.cuda()\n",
    "#Define loss criterion\n",
    "criterion = nn.CrossEntropyLoss()\n",
    "#Define the optimizer\n",
    "optimizer = torch.optim.Adam(model.parameters(), lr=0.001)\n",
    "total_steps = len(label_loader) * epochs\n",
    "#create the learning rate scheduler\n",
    "scheduler = torch.optim.lr_scheduler.ReduceLROnPlateau(optimizer, 'min')\n",
    "                                            #num_warmup_steps = 0,\n",
    "                                            #num_training_steps = total_steps\n"
   ]
  },
  {
   "cell_type": "code",
   "execution_count": 477,
   "metadata": {},
   "outputs": [
    {
     "data": {
      "text/plain": [
       "UFCmodel(\n",
       "  (R_stance_layer): Linear(in_features=3, out_features=2, bias=False)\n",
       "  (B_stance_layer): Linear(in_features=3, out_features=2, bias=False)\n",
       "  (no_of_rounds_layer): Linear(in_features=2, out_features=2, bias=False)\n",
       "  (title_bout_layer): Linear(in_features=2, out_features=2, bias=False)\n",
       "  (fc1): Linear(in_features=53, out_features=100, bias=True)\n",
       "  (fc2): Linear(in_features=100, out_features=30, bias=True)\n",
       "  (fc3): Linear(in_features=30, out_features=2, bias=True)\n",
       "  (dropout): Dropout(p=0.1, inplace=False)\n",
       "  (batchnorm1): BatchNorm1d(100, eps=1e-05, momentum=0.1, affine=True, track_running_stats=True)\n",
       "  (batchnorm2): BatchNorm1d(30, eps=1e-05, momentum=0.1, affine=True, track_running_stats=True)\n",
       ")"
      ]
     },
     "execution_count": 477,
     "metadata": {},
     "output_type": "execute_result"
    }
   ],
   "source": [
    "model"
   ]
  },
  {
   "cell_type": "code",
   "execution_count": 478,
   "metadata": {},
   "outputs": [
    {
     "name": "stdout",
     "output_type": "stream",
     "text": [
      "\n",
      "======== Epoch 1 / 10 ========\n",
      "Training...\n"
     ]
    },
    {
     "ename": "RuntimeError",
     "evalue": "size mismatch, m1: [8 x 55], m2: [53 x 100] at C:/w/1/s/tmp_conda_3.7_100118/conda/conda-bld/pytorch_1579082551706/work/aten/src\\THC/generic/THCTensorMathBlas.cu:290",
     "output_type": "error",
     "traceback": [
      "\u001b[1;31m---------------------------------------------------------------------------\u001b[0m",
      "\u001b[1;31mRuntimeError\u001b[0m                              Traceback (most recent call last)",
      "\u001b[1;32m<ipython-input-478-95fa7f71e0a9>\u001b[0m in \u001b[0;36m<module>\u001b[1;34m\u001b[0m\n\u001b[0;32m     28\u001b[0m         \u001b[0mtitle\u001b[0m \u001b[1;33m=\u001b[0m \u001b[0mtitle\u001b[0m\u001b[1;33m.\u001b[0m\u001b[0mto\u001b[0m\u001b[1;33m(\u001b[0m\u001b[1;34m'cuda'\u001b[0m\u001b[1;33m)\u001b[0m\u001b[1;33m\u001b[0m\u001b[1;33m\u001b[0m\u001b[0m\n\u001b[0;32m     29\u001b[0m         \u001b[0mlabel\u001b[0m \u001b[1;33m=\u001b[0m \u001b[0mlabel\u001b[0m\u001b[1;33m.\u001b[0m\u001b[0mto\u001b[0m\u001b[1;33m(\u001b[0m\u001b[1;34m'cuda'\u001b[0m\u001b[1;33m)\u001b[0m\u001b[1;33m\u001b[0m\u001b[1;33m\u001b[0m\u001b[0m\n\u001b[1;32m---> 30\u001b[1;33m         \u001b[0my_pred\u001b[0m \u001b[1;33m=\u001b[0m \u001b[0mmodel\u001b[0m\u001b[1;33m.\u001b[0m\u001b[0mforward\u001b[0m\u001b[1;33m(\u001b[0m\u001b[0mnumeric\u001b[0m\u001b[1;33m,\u001b[0m \u001b[0mrs\u001b[0m\u001b[1;33m,\u001b[0m \u001b[0mbs\u001b[0m\u001b[1;33m,\u001b[0m \u001b[0mnor\u001b[0m\u001b[1;33m,\u001b[0m \u001b[0mtitle\u001b[0m\u001b[1;33m)\u001b[0m\u001b[1;33m\u001b[0m\u001b[1;33m\u001b[0m\u001b[0m\n\u001b[0m\u001b[0;32m     31\u001b[0m \u001b[1;33m\u001b[0m\u001b[0m\n\u001b[0;32m     32\u001b[0m         \u001b[0moptimizer\u001b[0m\u001b[1;33m.\u001b[0m\u001b[0mzero_grad\u001b[0m\u001b[1;33m(\u001b[0m\u001b[1;33m)\u001b[0m\u001b[1;33m\u001b[0m\u001b[1;33m\u001b[0m\u001b[0m\n",
      "\u001b[1;32m<ipython-input-475-0902a13759f0>\u001b[0m in \u001b[0;36mforward\u001b[1;34m(self, numeric, r_stance, b_stance, no_of_rounds, title_bout)\u001b[0m\n\u001b[0;32m     26\u001b[0m \u001b[1;33m\u001b[0m\u001b[0m\n\u001b[0;32m     27\u001b[0m         \u001b[0mx\u001b[0m \u001b[1;33m=\u001b[0m \u001b[0mtorch\u001b[0m\u001b[1;33m.\u001b[0m\u001b[0mcat\u001b[0m\u001b[1;33m(\u001b[0m\u001b[1;33m(\u001b[0m\u001b[0mnumeric\u001b[0m\u001b[1;33m,\u001b[0m \u001b[0mr_stance\u001b[0m\u001b[1;33m,\u001b[0m \u001b[0mb_stance\u001b[0m\u001b[1;33m,\u001b[0m \u001b[0mno_of_rounds\u001b[0m\u001b[1;33m,\u001b[0m \u001b[0mtitle_bout\u001b[0m\u001b[1;33m)\u001b[0m\u001b[1;33m,\u001b[0m \u001b[1;36m1\u001b[0m\u001b[1;33m)\u001b[0m\u001b[1;33m\u001b[0m\u001b[1;33m\u001b[0m\u001b[0m\n\u001b[1;32m---> 28\u001b[1;33m         \u001b[0mx\u001b[0m \u001b[1;33m=\u001b[0m \u001b[0mF\u001b[0m\u001b[1;33m.\u001b[0m\u001b[0mrelu\u001b[0m\u001b[1;33m(\u001b[0m\u001b[0mself\u001b[0m\u001b[1;33m.\u001b[0m\u001b[0mfc1\u001b[0m\u001b[1;33m(\u001b[0m\u001b[0mx\u001b[0m\u001b[1;33m)\u001b[0m\u001b[1;33m)\u001b[0m\u001b[1;33m\u001b[0m\u001b[1;33m\u001b[0m\u001b[0m\n\u001b[0m\u001b[0;32m     29\u001b[0m         \u001b[0mx\u001b[0m \u001b[1;33m=\u001b[0m \u001b[0mself\u001b[0m\u001b[1;33m.\u001b[0m\u001b[0mdropout\u001b[0m\u001b[1;33m(\u001b[0m\u001b[0mx\u001b[0m\u001b[1;33m)\u001b[0m\u001b[1;33m\u001b[0m\u001b[1;33m\u001b[0m\u001b[0m\n\u001b[0;32m     30\u001b[0m         \u001b[0mx\u001b[0m \u001b[1;33m=\u001b[0m \u001b[0mself\u001b[0m\u001b[1;33m.\u001b[0m\u001b[0mbatchnorm1\u001b[0m\u001b[1;33m(\u001b[0m\u001b[0mx\u001b[0m\u001b[1;33m)\u001b[0m\u001b[1;33m\u001b[0m\u001b[1;33m\u001b[0m\u001b[0m\n",
      "\u001b[1;32mC:\\Anaconda3\\lib\\site-packages\\torch\\nn\\modules\\module.py\u001b[0m in \u001b[0;36m__call__\u001b[1;34m(self, *input, **kwargs)\u001b[0m\n\u001b[0;32m    530\u001b[0m             \u001b[0mresult\u001b[0m \u001b[1;33m=\u001b[0m \u001b[0mself\u001b[0m\u001b[1;33m.\u001b[0m\u001b[0m_slow_forward\u001b[0m\u001b[1;33m(\u001b[0m\u001b[1;33m*\u001b[0m\u001b[0minput\u001b[0m\u001b[1;33m,\u001b[0m \u001b[1;33m**\u001b[0m\u001b[0mkwargs\u001b[0m\u001b[1;33m)\u001b[0m\u001b[1;33m\u001b[0m\u001b[1;33m\u001b[0m\u001b[0m\n\u001b[0;32m    531\u001b[0m         \u001b[1;32melse\u001b[0m\u001b[1;33m:\u001b[0m\u001b[1;33m\u001b[0m\u001b[1;33m\u001b[0m\u001b[0m\n\u001b[1;32m--> 532\u001b[1;33m             \u001b[0mresult\u001b[0m \u001b[1;33m=\u001b[0m \u001b[0mself\u001b[0m\u001b[1;33m.\u001b[0m\u001b[0mforward\u001b[0m\u001b[1;33m(\u001b[0m\u001b[1;33m*\u001b[0m\u001b[0minput\u001b[0m\u001b[1;33m,\u001b[0m \u001b[1;33m**\u001b[0m\u001b[0mkwargs\u001b[0m\u001b[1;33m)\u001b[0m\u001b[1;33m\u001b[0m\u001b[1;33m\u001b[0m\u001b[0m\n\u001b[0m\u001b[0;32m    533\u001b[0m         \u001b[1;32mfor\u001b[0m \u001b[0mhook\u001b[0m \u001b[1;32min\u001b[0m \u001b[0mself\u001b[0m\u001b[1;33m.\u001b[0m\u001b[0m_forward_hooks\u001b[0m\u001b[1;33m.\u001b[0m\u001b[0mvalues\u001b[0m\u001b[1;33m(\u001b[0m\u001b[1;33m)\u001b[0m\u001b[1;33m:\u001b[0m\u001b[1;33m\u001b[0m\u001b[1;33m\u001b[0m\u001b[0m\n\u001b[0;32m    534\u001b[0m             \u001b[0mhook_result\u001b[0m \u001b[1;33m=\u001b[0m \u001b[0mhook\u001b[0m\u001b[1;33m(\u001b[0m\u001b[0mself\u001b[0m\u001b[1;33m,\u001b[0m \u001b[0minput\u001b[0m\u001b[1;33m,\u001b[0m \u001b[0mresult\u001b[0m\u001b[1;33m)\u001b[0m\u001b[1;33m\u001b[0m\u001b[1;33m\u001b[0m\u001b[0m\n",
      "\u001b[1;32mC:\\Anaconda3\\lib\\site-packages\\torch\\nn\\modules\\linear.py\u001b[0m in \u001b[0;36mforward\u001b[1;34m(self, input)\u001b[0m\n\u001b[0;32m     85\u001b[0m \u001b[1;33m\u001b[0m\u001b[0m\n\u001b[0;32m     86\u001b[0m     \u001b[1;32mdef\u001b[0m \u001b[0mforward\u001b[0m\u001b[1;33m(\u001b[0m\u001b[0mself\u001b[0m\u001b[1;33m,\u001b[0m \u001b[0minput\u001b[0m\u001b[1;33m)\u001b[0m\u001b[1;33m:\u001b[0m\u001b[1;33m\u001b[0m\u001b[1;33m\u001b[0m\u001b[0m\n\u001b[1;32m---> 87\u001b[1;33m         \u001b[1;32mreturn\u001b[0m \u001b[0mF\u001b[0m\u001b[1;33m.\u001b[0m\u001b[0mlinear\u001b[0m\u001b[1;33m(\u001b[0m\u001b[0minput\u001b[0m\u001b[1;33m,\u001b[0m \u001b[0mself\u001b[0m\u001b[1;33m.\u001b[0m\u001b[0mweight\u001b[0m\u001b[1;33m,\u001b[0m \u001b[0mself\u001b[0m\u001b[1;33m.\u001b[0m\u001b[0mbias\u001b[0m\u001b[1;33m)\u001b[0m\u001b[1;33m\u001b[0m\u001b[1;33m\u001b[0m\u001b[0m\n\u001b[0m\u001b[0;32m     88\u001b[0m \u001b[1;33m\u001b[0m\u001b[0m\n\u001b[0;32m     89\u001b[0m     \u001b[1;32mdef\u001b[0m \u001b[0mextra_repr\u001b[0m\u001b[1;33m(\u001b[0m\u001b[0mself\u001b[0m\u001b[1;33m)\u001b[0m\u001b[1;33m:\u001b[0m\u001b[1;33m\u001b[0m\u001b[1;33m\u001b[0m\u001b[0m\n",
      "\u001b[1;32mC:\\Anaconda3\\lib\\site-packages\\torch\\nn\\functional.py\u001b[0m in \u001b[0;36mlinear\u001b[1;34m(input, weight, bias)\u001b[0m\n\u001b[0;32m   1368\u001b[0m     \u001b[1;32mif\u001b[0m \u001b[0minput\u001b[0m\u001b[1;33m.\u001b[0m\u001b[0mdim\u001b[0m\u001b[1;33m(\u001b[0m\u001b[1;33m)\u001b[0m \u001b[1;33m==\u001b[0m \u001b[1;36m2\u001b[0m \u001b[1;32mand\u001b[0m \u001b[0mbias\u001b[0m \u001b[1;32mis\u001b[0m \u001b[1;32mnot\u001b[0m \u001b[1;32mNone\u001b[0m\u001b[1;33m:\u001b[0m\u001b[1;33m\u001b[0m\u001b[1;33m\u001b[0m\u001b[0m\n\u001b[0;32m   1369\u001b[0m         \u001b[1;31m# fused op is marginally faster\u001b[0m\u001b[1;33m\u001b[0m\u001b[1;33m\u001b[0m\u001b[1;33m\u001b[0m\u001b[0m\n\u001b[1;32m-> 1370\u001b[1;33m         \u001b[0mret\u001b[0m \u001b[1;33m=\u001b[0m \u001b[0mtorch\u001b[0m\u001b[1;33m.\u001b[0m\u001b[0maddmm\u001b[0m\u001b[1;33m(\u001b[0m\u001b[0mbias\u001b[0m\u001b[1;33m,\u001b[0m \u001b[0minput\u001b[0m\u001b[1;33m,\u001b[0m \u001b[0mweight\u001b[0m\u001b[1;33m.\u001b[0m\u001b[0mt\u001b[0m\u001b[1;33m(\u001b[0m\u001b[1;33m)\u001b[0m\u001b[1;33m)\u001b[0m\u001b[1;33m\u001b[0m\u001b[1;33m\u001b[0m\u001b[0m\n\u001b[0m\u001b[0;32m   1371\u001b[0m     \u001b[1;32melse\u001b[0m\u001b[1;33m:\u001b[0m\u001b[1;33m\u001b[0m\u001b[1;33m\u001b[0m\u001b[0m\n\u001b[0;32m   1372\u001b[0m         \u001b[0moutput\u001b[0m \u001b[1;33m=\u001b[0m \u001b[0minput\u001b[0m\u001b[1;33m.\u001b[0m\u001b[0mmatmul\u001b[0m\u001b[1;33m(\u001b[0m\u001b[0mweight\u001b[0m\u001b[1;33m.\u001b[0m\u001b[0mt\u001b[0m\u001b[1;33m(\u001b[0m\u001b[1;33m)\u001b[0m\u001b[1;33m)\u001b[0m\u001b[1;33m\u001b[0m\u001b[1;33m\u001b[0m\u001b[0m\n",
      "\u001b[1;31mRuntimeError\u001b[0m: size mismatch, m1: [8 x 55], m2: [53 x 100] at C:/w/1/s/tmp_conda_3.7_100118/conda/conda-bld/pytorch_1579082551706/work/aten/src\\THC/generic/THCTensorMathBlas.cu:290"
     ]
    }
   ],
   "source": [
    "seed_val = 42\n",
    "random.seed(seed_val)\n",
    "np.random.seed(seed_val)\n",
    "torch.manual_seed(seed_val)\n",
    "torch.cuda.manual_seed_all(seed_val)\n",
    "early_stopping = EarlyStopping(patience=3, verbose = True)\n",
    "loss_train = []\n",
    "loss_val = []\n",
    "for epoch in range(0, epochs):\n",
    "    \n",
    "    #train\n",
    "    print(\"\")\n",
    "    print('======== Epoch {:} / {:} ========'.format(epoch + 1, epochs))\n",
    "    print('Training...')\n",
    "    train_loss = 0\n",
    "    val_loss = 0\n",
    "    model.train()\n",
    "    step = 0\n",
    "    for numeric, rs, bs, nor, title, label in zip(numeric_loader, R_stance_loader, B_stance_loader, no_of_rounds_loader, title_loader, label_loader):\n",
    "        \n",
    "        if len(numeric) == 1:\n",
    "            continue\n",
    "        step += 1\n",
    "        numeric = numeric.to('cuda')\n",
    "        rs = rs.to('cuda')\n",
    "        bs = bs.to('cuda')\n",
    "        nor = nor.to('cuda')\n",
    "        title = title.to('cuda')\n",
    "        label = label.to('cuda')\n",
    "        y_pred = model.forward(numeric, rs, bs, nor, title)\n",
    "        \n",
    "        optimizer.zero_grad()\n",
    "        clf_loss = criterion(y_pred, label)\n",
    "        #if step % 100 == 0 and not step == 0:\n",
    "         #   print('  Batch {:>5,}  of  {:>5,}.'.format(step, len(label_loader)))\n",
    "            \n",
    "        \n",
    "        train_loss += clf_loss.item()\n",
    "        clf_loss.backward()\n",
    "        optimizer.step()\n",
    "        \n",
    "    \n",
    "    avg_train_loss = train_loss / len(label_loader)\n",
    "    loss_train.append(avg_train_loss)\n",
    "                             \n",
    "    print(\"\")\n",
    "    print(\"Average training loss: {0:.2f}\".format(avg_train_loss))\n",
    "\n",
    "    # validation\n",
    "    print(\"\")\n",
    "    print('Running Validaiton...')\n",
    "    model.eval()\n",
    "    for numeric_v, rs_v, bs_v, nor_v, title_v, label_v in zip(numeric_vloader, R_stance_vloader, B_stance_vloader, no_of_rounds_vloader, title_vloader, label_vloader):\n",
    "        numeric_v = numeric_v.to('cuda')\n",
    "        rs_v = rs_v.to('cuda')\n",
    "        bs_v = bs_v.to('cuda')\n",
    "        nor_v = nor_v.to('cuda')\n",
    "        title_v = title_v.to('cuda')\n",
    "        label_v = label_v.to('cuda')\n",
    "        \n",
    "        with torch.no_grad():\n",
    "            y_pred_val = model.forward(numeric_v, rs_v, bs_v, nor_v, title_v)\n",
    "            clf_loss_val = criterion(y_pred_val, label_v)\n",
    "            val_loss += clf_loss_val.item()\n",
    "        scheduler.step(clf_loss_val)\n",
    "    \n",
    "    avg_val_loss = val_loss / len(label_vloader)\n",
    "    loss_val.append(avg_val_loss)\n",
    "    \n",
    "    early_stopping(avg_val_loss, model)\n",
    "    print(\"Average validation loss: {0:.2f}\".format(avg_val_loss))\n",
    "    \n",
    "    if early_stopping.early_stop: \n",
    "        print(\"Early stopping executed\")\n",
    "        break\n",
    "        \n",
    "    model.load_state_dict(torch.load('checkpoint.pt'))\n",
    "\n",
    "print(\"Training UFC model is finished!\")\n",
    "                             "
   ]
  },
  {
   "cell_type": "markdown",
   "metadata": {},
   "source": [
    "### Test"
   ]
  },
  {
   "cell_type": "code",
   "execution_count": 420,
   "metadata": {},
   "outputs": [
    {
     "ename": "TypeError",
     "evalue": "can't convert CUDA tensor to numpy. Use Tensor.cpu() to copy the tensor to host memory first.",
     "output_type": "error",
     "traceback": [
      "\u001b[1;31m---------------------------------------------------------------------------\u001b[0m",
      "\u001b[1;31mTypeError\u001b[0m                                 Traceback (most recent call last)",
      "\u001b[1;32m<ipython-input-420-4c77f061d63a>\u001b[0m in \u001b[0;36m<module>\u001b[1;34m\u001b[0m\n\u001b[1;32m----> 1\u001b[1;33m \u001b[0mnumeric_test\u001b[0m \u001b[1;33m=\u001b[0m \u001b[0mtorch\u001b[0m\u001b[1;33m.\u001b[0m\u001b[0mFloatTensor\u001b[0m\u001b[1;33m(\u001b[0m\u001b[0mnp\u001b[0m\u001b[1;33m.\u001b[0m\u001b[0marray\u001b[0m\u001b[1;33m(\u001b[0m\u001b[0mnumeric_test\u001b[0m\u001b[1;33m)\u001b[0m\u001b[1;33m)\u001b[0m\u001b[1;33m.\u001b[0m\u001b[0mto\u001b[0m\u001b[1;33m(\u001b[0m\u001b[1;34m'cuda'\u001b[0m\u001b[1;33m)\u001b[0m\u001b[1;33m\u001b[0m\u001b[1;33m\u001b[0m\u001b[0m\n\u001b[0m\u001b[0;32m      2\u001b[0m \u001b[0mtitle_test\u001b[0m \u001b[1;33m=\u001b[0m \u001b[0mtorch\u001b[0m\u001b[1;33m.\u001b[0m\u001b[0mFloatTensor\u001b[0m\u001b[1;33m(\u001b[0m\u001b[0mnp\u001b[0m\u001b[1;33m.\u001b[0m\u001b[0marray\u001b[0m\u001b[1;33m(\u001b[0m\u001b[0mtitle_test\u001b[0m\u001b[1;33m)\u001b[0m\u001b[1;33m)\u001b[0m\u001b[1;33m.\u001b[0m\u001b[0mto\u001b[0m\u001b[1;33m(\u001b[0m\u001b[1;34m'cuda'\u001b[0m\u001b[1;33m)\u001b[0m\u001b[1;33m\u001b[0m\u001b[1;33m\u001b[0m\u001b[0m\n\u001b[0;32m      3\u001b[0m \u001b[0mR_stance_test\u001b[0m \u001b[1;33m=\u001b[0m \u001b[0mtorch\u001b[0m\u001b[1;33m.\u001b[0m\u001b[0mFloatTensor\u001b[0m\u001b[1;33m(\u001b[0m\u001b[0mnp\u001b[0m\u001b[1;33m.\u001b[0m\u001b[0marray\u001b[0m\u001b[1;33m(\u001b[0m\u001b[0mR_stance_test\u001b[0m\u001b[1;33m)\u001b[0m\u001b[1;33m)\u001b[0m\u001b[1;33m.\u001b[0m\u001b[0mto\u001b[0m\u001b[1;33m(\u001b[0m\u001b[1;34m'cuda'\u001b[0m\u001b[1;33m)\u001b[0m\u001b[1;33m\u001b[0m\u001b[1;33m\u001b[0m\u001b[0m\n\u001b[0;32m      4\u001b[0m \u001b[0mB_stance_test\u001b[0m \u001b[1;33m=\u001b[0m \u001b[0mtorch\u001b[0m\u001b[1;33m.\u001b[0m\u001b[0mFloatTensor\u001b[0m\u001b[1;33m(\u001b[0m\u001b[0mnp\u001b[0m\u001b[1;33m.\u001b[0m\u001b[0marray\u001b[0m\u001b[1;33m(\u001b[0m\u001b[0mB_stance_test\u001b[0m\u001b[1;33m)\u001b[0m\u001b[1;33m)\u001b[0m\u001b[1;33m.\u001b[0m\u001b[0mto\u001b[0m\u001b[1;33m(\u001b[0m\u001b[1;34m'cuda'\u001b[0m\u001b[1;33m)\u001b[0m\u001b[1;33m\u001b[0m\u001b[1;33m\u001b[0m\u001b[0m\n\u001b[0;32m      5\u001b[0m \u001b[0mno_of_rounds_test\u001b[0m \u001b[1;33m=\u001b[0m \u001b[0mtorch\u001b[0m\u001b[1;33m.\u001b[0m\u001b[0mFloatTensor\u001b[0m\u001b[1;33m(\u001b[0m\u001b[0mnp\u001b[0m\u001b[1;33m.\u001b[0m\u001b[0marray\u001b[0m\u001b[1;33m(\u001b[0m\u001b[0mno_of_rounds_test\u001b[0m\u001b[1;33m)\u001b[0m\u001b[1;33m)\u001b[0m\u001b[1;33m.\u001b[0m\u001b[0mto\u001b[0m\u001b[1;33m(\u001b[0m\u001b[1;34m'cuda'\u001b[0m\u001b[1;33m)\u001b[0m\u001b[1;33m\u001b[0m\u001b[1;33m\u001b[0m\u001b[0m\n",
      "\u001b[1;32mC:\\Anaconda3\\lib\\site-packages\\torch\\tensor.py\u001b[0m in \u001b[0;36m__array__\u001b[1;34m(self, dtype)\u001b[0m\n\u001b[0;32m    484\u001b[0m     \u001b[1;32mdef\u001b[0m \u001b[0m__array__\u001b[0m\u001b[1;33m(\u001b[0m\u001b[0mself\u001b[0m\u001b[1;33m,\u001b[0m \u001b[0mdtype\u001b[0m\u001b[1;33m=\u001b[0m\u001b[1;32mNone\u001b[0m\u001b[1;33m)\u001b[0m\u001b[1;33m:\u001b[0m\u001b[1;33m\u001b[0m\u001b[1;33m\u001b[0m\u001b[0m\n\u001b[0;32m    485\u001b[0m         \u001b[1;32mif\u001b[0m \u001b[0mdtype\u001b[0m \u001b[1;32mis\u001b[0m \u001b[1;32mNone\u001b[0m\u001b[1;33m:\u001b[0m\u001b[1;33m\u001b[0m\u001b[1;33m\u001b[0m\u001b[0m\n\u001b[1;32m--> 486\u001b[1;33m             \u001b[1;32mreturn\u001b[0m \u001b[0mself\u001b[0m\u001b[1;33m.\u001b[0m\u001b[0mnumpy\u001b[0m\u001b[1;33m(\u001b[0m\u001b[1;33m)\u001b[0m\u001b[1;33m\u001b[0m\u001b[1;33m\u001b[0m\u001b[0m\n\u001b[0m\u001b[0;32m    487\u001b[0m         \u001b[1;32melse\u001b[0m\u001b[1;33m:\u001b[0m\u001b[1;33m\u001b[0m\u001b[1;33m\u001b[0m\u001b[0m\n\u001b[0;32m    488\u001b[0m             \u001b[1;32mreturn\u001b[0m \u001b[0mself\u001b[0m\u001b[1;33m.\u001b[0m\u001b[0mnumpy\u001b[0m\u001b[1;33m(\u001b[0m\u001b[1;33m)\u001b[0m\u001b[1;33m.\u001b[0m\u001b[0mastype\u001b[0m\u001b[1;33m(\u001b[0m\u001b[0mdtype\u001b[0m\u001b[1;33m,\u001b[0m \u001b[0mcopy\u001b[0m\u001b[1;33m=\u001b[0m\u001b[1;32mFalse\u001b[0m\u001b[1;33m)\u001b[0m\u001b[1;33m\u001b[0m\u001b[1;33m\u001b[0m\u001b[0m\n",
      "\u001b[1;31mTypeError\u001b[0m: can't convert CUDA tensor to numpy. Use Tensor.cpu() to copy the tensor to host memory first."
     ]
    }
   ],
   "source": [
    "numeric_test = torch.FloatTensor(np.array(numeric_test)).to('cuda')\n",
    "title_test = torch.FloatTensor(np.array(title_test)).to('cuda')\n",
    "R_stance_test = torch.FloatTensor(np.array(R_stance_test)).to('cuda')\n",
    "B_stance_test = torch.FloatTensor(np.array(B_stance_test)).to('cuda')\n",
    "no_of_rounds_test = torch.FloatTensor(np.array(no_of_rounds_test)).to('cuda')\n",
    "#label_test = torch.LongTensor(np.array(label_test)).to('cuda')"
   ]
  },
  {
   "cell_type": "code",
   "execution_count": 442,
   "metadata": {},
   "outputs": [
    {
     "data": {
      "text/plain": [
       "UFCmodel(\n",
       "  (R_stance_layer): Linear(in_features=3, out_features=2, bias=False)\n",
       "  (B_stance_layer): Linear(in_features=3, out_features=2, bias=False)\n",
       "  (no_of_rounds_layer): Linear(in_features=2, out_features=2, bias=False)\n",
       "  (title_bout_layer): Linear(in_features=2, out_features=2, bias=False)\n",
       "  (fc1): Linear(in_features=54, out_features=100, bias=True)\n",
       "  (fc2): Linear(in_features=100, out_features=30, bias=True)\n",
       "  (fc3): Linear(in_features=30, out_features=2, bias=True)\n",
       "  (dropout): Dropout(p=0.1, inplace=False)\n",
       "  (batchnorm1): BatchNorm1d(100, eps=1e-05, momentum=0.1, affine=True, track_running_stats=True)\n",
       "  (batchnorm2): BatchNorm1d(30, eps=1e-05, momentum=0.1, affine=True, track_running_stats=True)\n",
       ")"
      ]
     },
     "execution_count": 442,
     "metadata": {},
     "output_type": "execute_result"
    }
   ],
   "source": [
    "model.eval()"
   ]
  },
  {
   "cell_type": "code",
   "execution_count": 443,
   "metadata": {},
   "outputs": [
    {
     "name": "stderr",
     "output_type": "stream",
     "text": [
      "C:\\Anaconda3\\lib\\site-packages\\ipykernel_launcher.py:48: UserWarning: Implicit dimension choice for softmax has been deprecated. Change the call to include dim=X as an argument.\n"
     ]
    }
   ],
   "source": [
    "pred = model.predict(numeric_test,R_stance_test, B_stance_test, no_of_rounds_test,  title_test)\n",
    "pred = pred.numpy()"
   ]
  },
  {
   "cell_type": "code",
   "execution_count": 444,
   "metadata": {},
   "outputs": [],
   "source": [
    "from sklearn.metrics import accuracy_score"
   ]
  },
  {
   "cell_type": "code",
   "execution_count": 445,
   "metadata": {},
   "outputs": [
    {
     "data": {
      "text/plain": [
       "0.6666666666666666"
      ]
     },
     "execution_count": 445,
     "metadata": {},
     "output_type": "execute_result"
    }
   ],
   "source": [
    "accuracy_score(label_test, pred)"
   ]
  },
  {
   "cell_type": "code",
   "execution_count": 63,
   "metadata": {},
   "outputs": [],
   "source": [
    "layer_title = nn.Linear()"
   ]
  },
  {
   "cell_type": "code",
   "execution_count": 74,
   "metadata": {},
   "outputs": [],
   "source": [
    "x = np.array(winner.iloc[0:5, :]).reshape(-1, 1, 3)\n",
    "x = torch.tensor(x).float()"
   ]
  }
 ],
 "metadata": {
  "kernelspec": {
   "display_name": "Python 3",
   "language": "python",
   "name": "python3"
  },
  "language_info": {
   "codemirror_mode": {
    "name": "ipython",
    "version": 3
   },
   "file_extension": ".py",
   "mimetype": "text/x-python",
   "name": "python",
   "nbconvert_exporter": "python",
   "pygments_lexer": "ipython3",
   "version": "3.7.1"
  }
 },
 "nbformat": 4,
 "nbformat_minor": 2
}
